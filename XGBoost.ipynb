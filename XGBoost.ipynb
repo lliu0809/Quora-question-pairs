{
  "nbformat": 4,
  "nbformat_minor": 0,
  "metadata": {
    "colab": {
      "name": "XGBoost.ipynb",
      "provenance": [],
      "collapsed_sections": [],
      "toc_visible": true
    },
    "kernelspec": {
      "name": "python3",
      "display_name": "Python 3"
    },
    "language_info": {
      "name": "python"
    }
  },
  "cells": [
    {
      "cell_type": "markdown",
      "metadata": {
        "id": "tsChgbgxDjOD"
      },
      "source": [
        "# Load Data\n"
      ]
    },
    {
      "cell_type": "code",
      "metadata": {
        "id": "369FhC7SDmfS",
        "colab": {
          "base_uri": "https://localhost:8080/"
        },
        "outputId": "2298243c-e3a4-421a-a682-69b835a015b8"
      },
      "source": [
        "!unzip /content/quora-question-pairs.zip "
      ],
      "execution_count": 1,
      "outputs": [
        {
          "output_type": "stream",
          "text": [
            "Archive:  /content/quora-question-pairs.zip\n",
            "  inflating: sample_submission.csv.zip  \n",
            "  inflating: test.csv                \n",
            "  inflating: test.csv.zip            \n",
            "  inflating: train.csv.zip           \n"
          ],
          "name": "stdout"
        }
      ]
    },
    {
      "cell_type": "code",
      "metadata": {
        "colab": {
          "base_uri": "https://localhost:8080/"
        },
        "id": "H4wRITHFHElY",
        "outputId": "1df1a3aa-a76e-46df-9395-073054290bc4"
      },
      "source": [
        "!unzip /content/train.csv.zip"
      ],
      "execution_count": 2,
      "outputs": [
        {
          "output_type": "stream",
          "text": [
            "Archive:  /content/train.csv.zip\n",
            "  inflating: train.csv               \n"
          ],
          "name": "stdout"
        }
      ]
    },
    {
      "cell_type": "code",
      "metadata": {
        "id": "NQt4yndEI8Ag"
      },
      "source": [
        "import pandas as pd"
      ],
      "execution_count": 12,
      "outputs": []
    },
    {
      "cell_type": "code",
      "metadata": {
        "id": "73cDaqlpIxuc"
      },
      "source": [
        "# X_train = pd.read_csv('/content/train.csv')\n",
        "df_train = pd.read_csv('/content/train.csv')\n",
        "df_test = pd.read_csv('/content/test.csv')"
      ],
      "execution_count": 66,
      "outputs": []
    },
    {
      "cell_type": "code",
      "metadata": {
        "colab": {
          "base_uri": "https://localhost:8080/",
          "height": 204
        },
        "id": "WEirB_ITVwHF",
        "outputId": "b233d6bd-dc56-4959-d1eb-383b7c57cb7c"
      },
      "source": [
        "df_train.head()"
      ],
      "execution_count": 78,
      "outputs": [
        {
          "output_type": "execute_result",
          "data": {
            "text/html": [
              "<div>\n",
              "<style scoped>\n",
              "    .dataframe tbody tr th:only-of-type {\n",
              "        vertical-align: middle;\n",
              "    }\n",
              "\n",
              "    .dataframe tbody tr th {\n",
              "        vertical-align: top;\n",
              "    }\n",
              "\n",
              "    .dataframe thead th {\n",
              "        text-align: right;\n",
              "    }\n",
              "</style>\n",
              "<table border=\"1\" class=\"dataframe\">\n",
              "  <thead>\n",
              "    <tr style=\"text-align: right;\">\n",
              "      <th></th>\n",
              "      <th>id</th>\n",
              "      <th>qid1</th>\n",
              "      <th>qid2</th>\n",
              "      <th>question1</th>\n",
              "      <th>question2</th>\n",
              "      <th>is_duplicate</th>\n",
              "    </tr>\n",
              "  </thead>\n",
              "  <tbody>\n",
              "    <tr>\n",
              "      <th>0</th>\n",
              "      <td>0</td>\n",
              "      <td>1</td>\n",
              "      <td>2</td>\n",
              "      <td>What is the step by step guide to invest in sh...</td>\n",
              "      <td>What is the step by step guide to invest in sh...</td>\n",
              "      <td>0</td>\n",
              "    </tr>\n",
              "    <tr>\n",
              "      <th>1</th>\n",
              "      <td>1</td>\n",
              "      <td>3</td>\n",
              "      <td>4</td>\n",
              "      <td>What is the story of Kohinoor (Koh-i-Noor) Dia...</td>\n",
              "      <td>What would happen if the Indian government sto...</td>\n",
              "      <td>0</td>\n",
              "    </tr>\n",
              "    <tr>\n",
              "      <th>2</th>\n",
              "      <td>2</td>\n",
              "      <td>5</td>\n",
              "      <td>6</td>\n",
              "      <td>How can I increase the speed of my internet co...</td>\n",
              "      <td>How can Internet speed be increased by hacking...</td>\n",
              "      <td>0</td>\n",
              "    </tr>\n",
              "    <tr>\n",
              "      <th>3</th>\n",
              "      <td>3</td>\n",
              "      <td>7</td>\n",
              "      <td>8</td>\n",
              "      <td>Why am I mentally very lonely? How can I solve...</td>\n",
              "      <td>Find the remainder when [math]23^{24}[/math] i...</td>\n",
              "      <td>0</td>\n",
              "    </tr>\n",
              "    <tr>\n",
              "      <th>4</th>\n",
              "      <td>4</td>\n",
              "      <td>9</td>\n",
              "      <td>10</td>\n",
              "      <td>Which one dissolve in water quikly sugar, salt...</td>\n",
              "      <td>Which fish would survive in salt water?</td>\n",
              "      <td>0</td>\n",
              "    </tr>\n",
              "  </tbody>\n",
              "</table>\n",
              "</div>"
            ],
            "text/plain": [
              "   id  qid1  ...                                          question2 is_duplicate\n",
              "0   0     1  ...  What is the step by step guide to invest in sh...            0\n",
              "1   1     3  ...  What would happen if the Indian government sto...            0\n",
              "2   2     5  ...  How can Internet speed be increased by hacking...            0\n",
              "3   3     7  ...  Find the remainder when [math]23^{24}[/math] i...            0\n",
              "4   4     9  ...            Which fish would survive in salt water?            0\n",
              "\n",
              "[5 rows x 6 columns]"
            ]
          },
          "metadata": {
            "tags": []
          },
          "execution_count": 78
        }
      ]
    },
    {
      "cell_type": "code",
      "metadata": {
        "colab": {
          "base_uri": "https://localhost:8080/",
          "height": 204
        },
        "id": "LX0HIutDVyn-",
        "outputId": "0a8bddd1-00d4-4499-cca2-38ee5ca1539e"
      },
      "source": [
        "df_test.head()"
      ],
      "execution_count": 79,
      "outputs": [
        {
          "output_type": "execute_result",
          "data": {
            "text/html": [
              "<div>\n",
              "<style scoped>\n",
              "    .dataframe tbody tr th:only-of-type {\n",
              "        vertical-align: middle;\n",
              "    }\n",
              "\n",
              "    .dataframe tbody tr th {\n",
              "        vertical-align: top;\n",
              "    }\n",
              "\n",
              "    .dataframe thead th {\n",
              "        text-align: right;\n",
              "    }\n",
              "</style>\n",
              "<table border=\"1\" class=\"dataframe\">\n",
              "  <thead>\n",
              "    <tr style=\"text-align: right;\">\n",
              "      <th></th>\n",
              "      <th>test_id</th>\n",
              "      <th>question1</th>\n",
              "      <th>question2</th>\n",
              "    </tr>\n",
              "  </thead>\n",
              "  <tbody>\n",
              "    <tr>\n",
              "      <th>0</th>\n",
              "      <td>0</td>\n",
              "      <td>How does the Surface Pro himself 4 compare wit...</td>\n",
              "      <td>Why did Microsoft choose core m3 and not core ...</td>\n",
              "    </tr>\n",
              "    <tr>\n",
              "      <th>1</th>\n",
              "      <td>1</td>\n",
              "      <td>Should I have a hair transplant at age 24? How...</td>\n",
              "      <td>How much cost does hair transplant require?</td>\n",
              "    </tr>\n",
              "    <tr>\n",
              "      <th>2</th>\n",
              "      <td>2</td>\n",
              "      <td>What but is the best way to send money from Ch...</td>\n",
              "      <td>What you send money to China?</td>\n",
              "    </tr>\n",
              "    <tr>\n",
              "      <th>3</th>\n",
              "      <td>3</td>\n",
              "      <td>Which food not emulsifiers?</td>\n",
              "      <td>What foods fibre?</td>\n",
              "    </tr>\n",
              "    <tr>\n",
              "      <th>4</th>\n",
              "      <td>4</td>\n",
              "      <td>How \"aberystwyth\" start reading?</td>\n",
              "      <td>How their can I start reading?</td>\n",
              "    </tr>\n",
              "  </tbody>\n",
              "</table>\n",
              "</div>"
            ],
            "text/plain": [
              "   test_id  ...                                          question2\n",
              "0        0  ...  Why did Microsoft choose core m3 and not core ...\n",
              "1        1  ...        How much cost does hair transplant require?\n",
              "2        2  ...                      What you send money to China?\n",
              "3        3  ...                                  What foods fibre?\n",
              "4        4  ...                     How their can I start reading?\n",
              "\n",
              "[5 rows x 3 columns]"
            ]
          },
          "metadata": {
            "tags": []
          },
          "execution_count": 79
        }
      ]
    },
    {
      "cell_type": "markdown",
      "metadata": {
        "id": "ThWRnBKNDkJR"
      },
      "source": [
        "# Stop Words"
      ]
    },
    {
      "cell_type": "code",
      "metadata": {
        "id": "izLbG6HzHcds"
      },
      "source": [
        "import nltk\n",
        "from nltk.corpus import stopwords"
      ],
      "execution_count": 6,
      "outputs": []
    },
    {
      "cell_type": "code",
      "metadata": {
        "colab": {
          "base_uri": "https://localhost:8080/"
        },
        "id": "fclO3iazHnyR",
        "outputId": "027a87a6-d2a7-4050-ded0-d81392213f09"
      },
      "source": [
        "nltk.download('stopwords')"
      ],
      "execution_count": 7,
      "outputs": [
        {
          "output_type": "stream",
          "text": [
            "[nltk_data] Downloading package stopwords to /root/nltk_data...\n",
            "[nltk_data]   Unzipping corpora/stopwords.zip.\n"
          ],
          "name": "stdout"
        },
        {
          "output_type": "execute_result",
          "data": {
            "text/plain": [
              "True"
            ]
          },
          "metadata": {
            "tags": []
          },
          "execution_count": 7
        }
      ]
    },
    {
      "cell_type": "code",
      "metadata": {
        "id": "yCdUG5fPHfSF"
      },
      "source": [
        "stop_words = set(stopwords.words(\"english\"))"
      ],
      "execution_count": 8,
      "outputs": []
    },
    {
      "cell_type": "code",
      "metadata": {
        "id": "KUSlxzNCHi4o"
      },
      "source": [
        "def word_match(row):\n",
        "  q1words = {}\n",
        "  q2words = {}\n",
        "\n",
        "  # remove stop words\n",
        "\n",
        "  # Question 1\n",
        "  for word in str(row[3]).lower().split():\n",
        "  #for word in row['question1']:\n",
        "    if word not in stop_words:\n",
        "      q1words[word] = 1\n",
        "  # Question 2\n",
        "  for word in str(row[4]).lower().split():\n",
        "    if word not in stop_words:\n",
        "      q2words[word] = 1\n",
        "\n",
        "  if len(q1words) == 0 or len(q2words) == 0:\n",
        "    return 0\n",
        "\n",
        "  # count shared words in questions\n",
        "  q1_shared_word = [w for w in q1words.keys() if w in q2words]\n",
        "  q2_shared_word = [w for w in q2words.keys() if w in q1words]\n",
        "\n",
        "  shared = (len(q1_shared_word) + len(q2_shared_word))/(len(q1words) + len(q2words))\n",
        "  return shared"
      ],
      "execution_count": 73,
      "outputs": []
    },
    {
      "cell_type": "code",
      "metadata": {
        "id": "qQHmva6bJKgz"
      },
      "source": [
        "match = X_train.apply(word_match, axis=1, raw=True)"
      ],
      "execution_count": 29,
      "outputs": []
    },
    {
      "cell_type": "code",
      "metadata": {
        "id": "zZ443aCfK-oc"
      },
      "source": [
        "import matplotlib.pyplot as plt"
      ],
      "execution_count": 24,
      "outputs": []
    },
    {
      "cell_type": "code",
      "metadata": {
        "colab": {
          "base_uri": "https://localhost:8080/",
          "height": 298
        },
        "id": "LS8fb_wCIg2x",
        "outputId": "93aae4d2-f7f7-4cf4-9d7a-900fd3a104c6"
      },
      "source": [
        "plt.figure()\n",
        "plt.hist(match[X_train['is_duplicate']==0], bins=20, label='Not Duplicated')\n",
        "plt.hist(match[X_train['is_duplicate']==1], bins=20, alpha=0.7, label='Duplicated')\n",
        "plt.legend()\n",
        "plt.title('word matches')"
      ],
      "execution_count": 30,
      "outputs": [
        {
          "output_type": "execute_result",
          "data": {
            "text/plain": [
              "Text(0.5, 1.0, 'word matches')"
            ]
          },
          "metadata": {
            "tags": []
          },
          "execution_count": 30
        },
        {
          "output_type": "display_data",
          "data": {
            "image/png": "[encoded data removed]",
            "text/plain": [
              "<Figure size 432x288 with 1 Axes>"
            ]
          },
          "metadata": {
            "tags": [],
            "needs_background": "light"
          }
        }
      ]
    },
    {
      "cell_type": "markdown",
      "metadata": {
        "id": "2RX6taJ7Nnyn"
      },
      "source": [
        "From here, we see that duplicated question pairs tend to have more shared word among the questions."
      ]
    },
    {
      "cell_type": "markdown",
      "metadata": {
        "id": "0SAdUk5eNucE"
      },
      "source": [
        "# TF-IDF"
      ]
    },
    {
      "cell_type": "markdown",
      "metadata": {
        "id": "HdyOrv5XRVLn"
      },
      "source": [
        "First let's get the weight for the quesions words"
      ]
    },
    {
      "cell_type": "code",
      "metadata": {
        "id": "mWV9-XbCQ_Gk"
      },
      "source": [
        "X_train['question1'] = X_train['question1'].map(lambda x: str(x).lower().split())\n",
        "X_train['question2'] = X_train['question2'].map(lambda x: str(x).lower().split())"
      ],
      "execution_count": 40,
      "outputs": []
    },
    {
      "cell_type": "code",
      "metadata": {
        "id": "foqs4TAHQWqR"
      },
      "source": [
        "train_qs = pd.Series(X_train['question1'].tolist() + X_train['question2'].tolist())"
      ],
      "execution_count": 41,
      "outputs": []
    },
    {
      "cell_type": "code",
      "metadata": {
        "id": "xVgayQ0VQisE"
      },
      "source": [
        "words = [x for y in train_qs for x in y]"
      ],
      "execution_count": 42,
      "outputs": []
    },
    {
      "cell_type": "code",
      "metadata": {
        "id": "ACU-3ev9RSE9"
      },
      "source": [
        "from collections import Counter"
      ],
      "execution_count": 44,
      "outputs": []
    },
    {
      "cell_type": "code",
      "metadata": {
        "id": "MmdOkSicRJLB"
      },
      "source": [
        "counts = Counter(words)"
      ],
      "execution_count": 45,
      "outputs": []
    },
    {
      "cell_type": "code",
      "metadata": {
        "id": "dvLX-enWQKCz"
      },
      "source": [
        "def get_weight(count, eps=10000, min_count=2):\n",
        "    if count < min_count:\n",
        "        return 0\n",
        "    else:\n",
        "        return 1 / (count + eps)"
      ],
      "execution_count": 36,
      "outputs": []
    },
    {
      "cell_type": "code",
      "metadata": {
        "id": "I2Meq7rcQLYF"
      },
      "source": [
        "weights = {word: get_weight(count) for word, count in counts.items()}"
      ],
      "execution_count": 46,
      "outputs": []
    },
    {
      "cell_type": "code",
      "metadata": {
        "colab": {
          "base_uri": "https://localhost:8080/"
        },
        "id": "28-Esmx1Rn52",
        "outputId": "1548d259-ef2c-4153-ddbe-f3743f27385d"
      },
      "source": [
        "# let's see what are the most commonly seen words in our training dataset\n",
        "print(sorted(weights.items(), key=lambda x: x[1] if x[1] > 0 else 9999)[:10])\n",
        "\n",
        "# and most uncommon ones?\n",
        "print(sorted(weights.items(), key=lambda x: x[1], reverse=True)[:10])"
      ],
      "execution_count": 50,
      "outputs": [
        {
          "output_type": "stream",
          "text": [
            "[('the', 2.5891040146646852e-06), ('what', 3.115623919267953e-06), ('is', 3.5861702928825277e-06), ('how', 4.366449945201053e-06), ('i', 4.4805878531263305e-06), ('a', 4.540645588989843e-06), ('to', 4.671434644293609e-06), ('in', 4.884625153865692e-06), ('of', 5.920242493132519e-06), ('do', 6.070908207867897e-06)]\n",
            "[('シ', 9.998000399920016e-05), ('し?', 9.998000399920016e-05), ('19-year-old.', 9.998000399920016e-05), ('1-855-425-3768', 9.998000399920016e-05), ('confederates', 9.998000399920016e-05), ('asahi', 9.998000399920016e-05), ('fab', 9.998000399920016e-05), ('109?', 9.998000399920016e-05), ('samrudi', 9.998000399920016e-05), ('fulfill?', 9.998000399920016e-05)]\n"
          ],
          "name": "stdout"
        }
      ]
    },
    {
      "cell_type": "code",
      "metadata": {
        "id": "bwY9WU8QSBUn"
      },
      "source": [
        "import numpy as np"
      ],
      "execution_count": 55,
      "outputs": []
    },
    {
      "cell_type": "code",
      "metadata": {
        "id": "VEBWVAuxN58a"
      },
      "source": [
        "# now let's try tf-idf\n",
        "def tfidf_word_match(row):\n",
        "  q1words = {}\n",
        "  q2words = {}\n",
        "\n",
        "  # question 1\n",
        "  for word in str(row[3]).lower().split():\n",
        "    if word not in stop_words:\n",
        "      q1words[word] = 1\n",
        "  # question 2\n",
        "  for word in str(row[4]).lower().split():\n",
        "    if word not in stop_words:\n",
        "      q2words[word] = 1\n",
        "\n",
        "  if len(q1words) == 0 or len(q2words) == 0:\n",
        "    return 0\n",
        "\n",
        "  shared_weights = [weights.get(w, 0) for w in q1words.keys() if w in q2words] + [weights.get(w, 0) for w in q2words.keys() if w in q1words]\n",
        "  total_weights = [weights.get(w, 0) for w in q1words] + [weights.get(w, 0) for w in q2words]\n",
        "\n",
        "  shared = np.sum(shared_weights) / np.sum(total_weights)\n",
        "  return shared"
      ],
      "execution_count": 74,
      "outputs": []
    },
    {
      "cell_type": "code",
      "metadata": {
        "colab": {
          "base_uri": "https://localhost:8080/"
        },
        "id": "869xdardPBRH",
        "outputId": "1fbf33ac-ac6b-45f9-c2f3-421d1ce1e453"
      },
      "source": [
        "tfidf_match = X_train.apply(tfidf_word_match, axis=1, raw=True)"
      ],
      "execution_count": 64,
      "outputs": [
        {
          "output_type": "stream",
          "text": [
            "/usr/local/lib/python3.7/dist-packages/ipykernel_launcher.py:21: RuntimeWarning: invalid value encountered in double_scalars\n"
          ],
          "name": "stderr"
        }
      ]
    },
    {
      "cell_type": "code",
      "metadata": {
        "colab": {
          "base_uri": "https://localhost:8080/",
          "height": 298
        },
        "id": "NaCXQpcsSN1o",
        "outputId": "225f0921-d83c-4ed1-c6cf-50b49f13187d"
      },
      "source": [
        "plt.figure()\n",
        "plt.hist(tfidf_match[X_train['is_duplicate']==0].fillna(0), bins=20, label='Not Duplicated')\n",
        "plt.hist(tfidf_match[X_train['is_duplicate']==1].fillna(0), bins=20, alpha=0.7, label='Duplicated')\n",
        "plt.legend()\n",
        "plt.title('word matches')\n"
      ],
      "execution_count": 65,
      "outputs": [
        {
          "output_type": "execute_result",
          "data": {
            "text/plain": [
              "Text(0.5, 1.0, 'word matches')"
            ]
          },
          "metadata": {
            "tags": []
          },
          "execution_count": 65
        },
        {
          "output_type": "display_data",
          "data": {
            "image/png": "[encoded data removed]",
            "text/plain": [
              "<Figure size 432x288 with 1 Axes>"
            ]
          },
          "metadata": {
            "tags": [],
            "needs_background": "light"
          }
        }
      ]
    },
    {
      "cell_type": "markdown",
      "metadata": {
        "id": "aecVmiYRTFoa"
      },
      "source": [
        "# Data Pre-processing"
      ]
    },
    {
      "cell_type": "code",
      "metadata": {
        "id": "vVaqsBLHYYhL"
      },
      "source": [
        "from sklearn.model_selection import train_test_split"
      ],
      "execution_count": 95,
      "outputs": []
    },
    {
      "cell_type": "code",
      "metadata": {
        "id": "ySXzj_2uV8qJ"
      },
      "source": [
        "def word_match_test(row):\n",
        "  q1words = {}\n",
        "  q2words = {}\n",
        "\n",
        "  # remove stop words\n",
        "\n",
        "  # Question 1\n",
        "  for word in str(row[1]).lower().split():\n",
        "  #for word in row['question1']:\n",
        "    if word not in stop_words:\n",
        "      q1words[word] = 1\n",
        "  # Question 2\n",
        "  for word in str(row[2]).lower().split():\n",
        "    if word not in stop_words:\n",
        "      q2words[word] = 1\n",
        "\n",
        "  if len(q1words) == 0 or len(q2words) == 0:\n",
        "    return 0\n",
        "\n",
        "  # count shared words in questions\n",
        "  q1_shared_word = [w for w in q1words.keys() if w in q2words]\n",
        "  q2_shared_word = [w for w in q2words.keys() if w in q1words]\n",
        "\n",
        "  shared = (len(q1_shared_word) + len(q2_shared_word))/(len(q1words) + len(q2words))\n",
        "  return shared"
      ],
      "execution_count": 82,
      "outputs": []
    },
    {
      "cell_type": "code",
      "metadata": {
        "id": "vZbRKz2NWAiK"
      },
      "source": [
        "def tfidf_word_match_test(row):\n",
        "  q1words = {}\n",
        "  q2words = {}\n",
        "\n",
        "  # question 1\n",
        "  for word in str(row[1]).lower().split():\n",
        "    if word not in stop_words:\n",
        "      q1words[word] = 1\n",
        "  # question 2\n",
        "  for word in str(row[2]).lower().split():\n",
        "    if word not in stop_words:\n",
        "      q2words[word] = 1\n",
        "\n",
        "  if len(q1words) == 0 or len(q2words) == 0:\n",
        "    return 0\n",
        "\n",
        "  shared_weights = [weights.get(w, 0) for w in q1words.keys() if w in q2words] + [weights.get(w, 0) for w in q2words.keys() if w in q1words]\n",
        "  total_weights = [weights.get(w, 0) for w in q1words] + [weights.get(w, 0) for w in q2words]\n",
        "\n",
        "  shared = np.sum(shared_weights) / np.sum(total_weights)\n",
        "  return shared"
      ],
      "execution_count": 83,
      "outputs": []
    },
    {
      "cell_type": "code",
      "metadata": {
        "colab": {
          "base_uri": "https://localhost:8080/"
        },
        "id": "ule-Qwo4TQH4",
        "outputId": "b3b6ba17-8173-4271-f3cf-888665910b2c"
      },
      "source": [
        "x_train = pd.DataFrame()\n",
        "x_test = pd.DataFrame()\n",
        "\n",
        "x_train['word_match'] = match\n",
        "x_train['tfidf_word_match'] = tfidf_match\n",
        "\n",
        "x_test['word_match'] = df_test.apply(word_match_test, axis=1, raw=True)\n",
        "x_test['tfidf_word_match'] = df_test.apply(tfidf_word_match_test, axis=1, raw=True)"
      ],
      "execution_count": 84,
      "outputs": [
        {
          "output_type": "stream",
          "text": [
            "/usr/local/lib/python3.7/dist-packages/ipykernel_launcher.py:20: RuntimeWarning: invalid value encountered in double_scalars\n",
            "/usr/local/lib/python3.7/dist-packages/ipykernel_launcher.py:20: RuntimeWarning: invalid value encountered in long_scalars\n"
          ],
          "name": "stderr"
        }
      ]
    },
    {
      "cell_type": "code",
      "metadata": {
        "id": "42cUV85mWmPc"
      },
      "source": [
        "y_train = df_train['is_duplicate'].values"
      ],
      "execution_count": 85,
      "outputs": []
    },
    {
      "cell_type": "code",
      "metadata": {
        "id": "kP4ClQfSWpil"
      },
      "source": [
        "pos_train = x_train[y_train==1]\n",
        "neg_train = x_train[y_train==0]"
      ],
      "execution_count": 86,
      "outputs": []
    },
    {
      "cell_type": "code",
      "metadata": {
        "colab": {
          "base_uri": "https://localhost:8080/"
        },
        "id": "JtV5-Jr0W1Pw",
        "outputId": "e64d399b-208d-4de6-83e5-bfd366afcb87"
      },
      "source": [
        "print(len(pos_train))\n",
        "print(len(neg_train))"
      ],
      "execution_count": 87,
      "outputs": [
        {
          "output_type": "stream",
          "text": [
            "149263\n",
            "255027\n"
          ],
          "name": "stdout"
        }
      ]
    },
    {
      "cell_type": "code",
      "metadata": {
        "id": "JzB5vs14W8pZ"
      },
      "source": [
        "p = 0.165\n",
        "scale = ((len(pos_train)/(len(pos_train)+len(neg_train)))/p) - 1"
      ],
      "execution_count": 89,
      "outputs": []
    },
    {
      "cell_type": "code",
      "metadata": {
        "id": "B7d9dv6VXHlz"
      },
      "source": [
        "while scale > 1:\n",
        "    neg_train = pd.concat([neg_train, neg_train])\n",
        "    scale -=1\n",
        "neg_train = pd.concat([neg_train, neg_train[:int(scale * len(neg_train))]])"
      ],
      "execution_count": 90,
      "outputs": []
    },
    {
      "cell_type": "code",
      "metadata": {
        "id": "v3foXKkNXS_g"
      },
      "source": [
        "# update x_train & y_train\n",
        "x_train = pd.concat([pos_train, neg_train])\n",
        "y_train = (np.zeros(len(pos_train)) + 1).tolist() + np.zeros(len(neg_train)).tolist()"
      ],
      "execution_count": 92,
      "outputs": []
    },
    {
      "cell_type": "code",
      "metadata": {
        "id": "gN_Xu4WsYUyf"
      },
      "source": [
        "x_train, x_validation, y_train, y_validation = train_test_split(x_train, y_train, test_size=0.33, random_state=0)"
      ],
      "execution_count": 120,
      "outputs": []
    },
    {
      "cell_type": "markdown",
      "metadata": {
        "id": "QG39r-R3YtA-"
      },
      "source": [
        "# XGBoost Model"
      ]
    },
    {
      "cell_type": "code",
      "metadata": {
        "id": "92TTyJWeYyxp"
      },
      "source": [
        "import xgboost as xgb\n",
        "from sklearn.metrics import log_loss, accuracy_score"
      ],
      "execution_count": 145,
      "outputs": []
    },
    {
      "cell_type": "code",
      "metadata": {
        "id": "WEIZjQFfY1oR"
      },
      "source": [
        "# hyper-parameter\n",
        "params = {\n",
        "    'objective':'binary:logistic',\n",
        "    'eval_metric':'logloss',\n",
        "    'eta':0.02,\n",
        "    'max_depth':4,\n",
        "    'subsample':0.8,\n",
        "    'base_score':0.2\n",
        "}"
      ],
      "execution_count": 98,
      "outputs": []
    },
    {
      "cell_type": "code",
      "metadata": {
        "id": "MdKlkqceY-dz"
      },
      "source": [
        "d_train = xgb.DMatrix(x_train, label=y_train)\n",
        "d_validation = xgb.DMatrix(x_validation, label=y_validation)"
      ],
      "execution_count": 102,
      "outputs": []
    },
    {
      "cell_type": "code",
      "metadata": {
        "id": "a_l22e-TZPwo"
      },
      "source": [
        "watchlist = [(d_train, 'train'), (d_validation, 'validation')]"
      ],
      "execution_count": 103,
      "outputs": []
    },
    {
      "cell_type": "code",
      "metadata": {
        "colab": {
          "base_uri": "https://localhost:8080/"
        },
        "id": "YihzWlPTZSey",
        "outputId": "a16cb1cb-a2fd-4289-a5bb-583b4b4383e7"
      },
      "source": [
        "model = xgb.train(params, d_train, 400, watchlist, early_stopping_rounds=50, verbose_eval=10)"
      ],
      "execution_count": 104,
      "outputs": [
        {
          "output_type": "stream",
          "text": [
            "[0]\ttrain-logloss:0.682615\tvalidation-logloss:0.683035\n",
            "Multiple eval metrics have been passed: 'validation-logloss' will be used for early stopping.\n",
            "\n",
            "Will train until validation-logloss hasn't improved in 50 rounds.\n",
            "[10]\ttrain-logloss:0.602738\tvalidation-logloss:0.602171\n",
            "[20]\ttrain-logloss:0.545731\tvalidation-logloss:0.545247\n",
            "[30]\ttrain-logloss:0.503673\tvalidation-logloss:0.503479\n",
            "[40]\ttrain-logloss:0.472941\tvalidation-logloss:0.472397\n",
            "[50]\ttrain-logloss:0.44863\tvalidation-logloss:0.448781\n",
            "[60]\ttrain-logloss:0.430666\tvalidation-logloss:0.430557\n",
            "[70]\ttrain-logloss:0.416436\tvalidation-logloss:0.416313\n",
            "[80]\ttrain-logloss:0.405659\tvalidation-logloss:0.405183\n",
            "[90]\ttrain-logloss:0.396932\tvalidation-logloss:0.396532\n",
            "[100]\ttrain-logloss:0.390227\tvalidation-logloss:0.389638\n",
            "[110]\ttrain-logloss:0.384431\tvalidation-logloss:0.384353\n",
            "[120]\ttrain-logloss:0.380661\tvalidation-logloss:0.380043\n",
            "[130]\ttrain-logloss:0.377134\tvalidation-logloss:0.376473\n",
            "[140]\ttrain-logloss:0.374411\tvalidation-logloss:0.373784\n",
            "[150]\ttrain-logloss:0.371719\tvalidation-logloss:0.371639\n",
            "[160]\ttrain-logloss:0.370267\tvalidation-logloss:0.369859\n",
            "[170]\ttrain-logloss:0.36884\tvalidation-logloss:0.368514\n",
            "[180]\ttrain-logloss:0.367937\tvalidation-logloss:0.36729\n",
            "[190]\ttrain-logloss:0.366882\tvalidation-logloss:0.366372\n",
            "[200]\ttrain-logloss:0.365994\tvalidation-logloss:0.365599\n",
            "[210]\ttrain-logloss:0.365405\tvalidation-logloss:0.36496\n",
            "[220]\ttrain-logloss:0.365204\tvalidation-logloss:0.364338\n",
            "[230]\ttrain-logloss:0.364428\tvalidation-logloss:0.364095\n",
            "[240]\ttrain-logloss:0.364186\tvalidation-logloss:0.36359\n",
            "[250]\ttrain-logloss:0.364001\tvalidation-logloss:0.363351\n",
            "[260]\ttrain-logloss:0.363907\tvalidation-logloss:0.363182\n",
            "[270]\ttrain-logloss:0.363723\tvalidation-logloss:0.362913\n",
            "[280]\ttrain-logloss:0.363432\tvalidation-logloss:0.362551\n",
            "[290]\ttrain-logloss:0.363279\tvalidation-logloss:0.362362\n",
            "[300]\ttrain-logloss:0.363079\tvalidation-logloss:0.362246\n",
            "[310]\ttrain-logloss:0.36259\tvalidation-logloss:0.362102\n",
            "[320]\ttrain-logloss:0.362446\tvalidation-logloss:0.36199\n",
            "[330]\ttrain-logloss:0.36231\tvalidation-logloss:0.361806\n",
            "[340]\ttrain-logloss:0.362235\tvalidation-logloss:0.361704\n",
            "[350]\ttrain-logloss:0.362087\tvalidation-logloss:0.361624\n",
            "[360]\ttrain-logloss:0.36203\tvalidation-logloss:0.361511\n",
            "[370]\ttrain-logloss:0.361969\tvalidation-logloss:0.361429\n",
            "[380]\ttrain-logloss:0.361857\tvalidation-logloss:0.36133\n",
            "[390]\ttrain-logloss:0.361784\tvalidation-logloss:0.361314\n",
            "[399]\ttrain-logloss:0.361604\tvalidation-logloss:0.361017\n"
          ],
          "name": "stdout"
        }
      ]
    },
    {
      "cell_type": "code",
      "metadata": {
        "id": "iOOn57h2ZqGo"
      },
      "source": [
        "d_test = xgb.DMatrix(x_test)\n",
        "pred = model.predict(d_test)"
      ],
      "execution_count": 114,
      "outputs": []
    },
    {
      "cell_type": "code",
      "metadata": {
        "colab": {
          "base_uri": "https://localhost:8080/"
        },
        "id": "uSL-zPu1h6Su",
        "outputId": "c75b4231-aa58-46e7-adee-ada55e3d2171"
      },
      "source": [
        "print(len(pred))"
      ],
      "execution_count": 149,
      "outputs": [
        {
          "output_type": "stream",
          "text": [
            "2345796\n"
          ],
          "name": "stdout"
        }
      ]
    },
    {
      "cell_type": "code",
      "metadata": {
        "colab": {
          "base_uri": "https://localhost:8080/"
        },
        "id": "vaXpFywWdKgT",
        "outputId": "64da7d0c-302c-488a-bbc5-536611e9a5a4"
      },
      "source": [
        "# logloss\n",
        "print(log_loss(y_validation, bst.predict(d_pred)))"
      ],
      "execution_count": 146,
      "outputs": [
        {
          "output_type": "stream",
          "text": [
            "0.36341200410008184\n"
          ],
          "name": "stdout"
        }
      ]
    },
    {
      "cell_type": "code",
      "metadata": {
        "id": "DTozO7fjZzop"
      },
      "source": [
        "# save result\n",
        "result = pd.DataFrame()\n",
        "result['test_id'] = df_test['test_id']\n",
        "result['is_duplicate'] = pred\n",
        "result.to_csv('xgboost.csv', index=False)"
      ],
      "execution_count": 107,
      "outputs": []
    },
    {
      "cell_type": "markdown",
      "metadata": {
        "id": "QGoVT3qPO_0r"
      },
      "source": [
        "reference: https://github.com/Kulbear/quora-question-pair/blob/master/ARCHIVED/helpers.py"
      ]
    }
  ]
}