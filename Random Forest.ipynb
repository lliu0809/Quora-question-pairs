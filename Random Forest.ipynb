{
  "nbformat": 4,
  "nbformat_minor": 0,
  "metadata": {
    "colab": {
      "name": "random forest.ipynb",
      "provenance": [],
      "collapsed_sections": []
    },
    "kernelspec": {
      "name": "python3",
      "display_name": "Python 3"
    },
    "language_info": {
      "name": "python"
    }
  },
  "cells": [
    {
      "cell_type": "code",
      "metadata": {
        "id": "iFtWrxoCdj7g"
      },
      "source": [
        "import pandas as pd\n",
        "import numpy as np\n",
        "import nltk\n",
        "from nltk.corpus import stopwords\n",
        "from nltk.stem import SnowballStemmer\n",
        "import re\n",
        "from string import punctuation\n",
        "import math\n",
        "import gensim\n",
        "from gensim import corpora\n",
        "from sklearn.metrics.pairwise import cosine_similarity\n",
        "from sklearn.metrics.pairwise import manhattan_distances\n",
        "from sklearn.metrics.pairwise import euclidean_distances\n",
        "from sklearn.ensemble import RandomForestClassifier\n",
        "from sklearn.metrics import log_loss\n",
        "import matplotlib.pyplot as plt"
      ],
      "execution_count": 40,
      "outputs": []
    },
    {
      "cell_type": "code",
      "metadata": {
        "colab": {
          "base_uri": "https://localhost:8080/"
        },
        "id": "J5PCvnXtjX2M",
        "outputId": "21c01410-5d28-445d-9274-03fd495b793a"
      },
      "source": [
        "from google.colab import drive\n",
        "drive.mount('/content/gdrive')"
      ],
      "execution_count": 3,
      "outputs": [
        {
          "output_type": "stream",
          "text": [
            "Mounted at /content/gdrive\n"
          ],
          "name": "stdout"
        }
      ]
    },
    {
      "cell_type": "code",
      "metadata": {
        "id": "1gA7uqXrjluj"
      },
      "source": [
        "train = pd.read_csv(\"./gdrive/MyDrive/quora question pair/train.csv\")\n",
        "train.drop_duplicates(inplace=True)\n",
        "train.dropna(inplace=True)\n"
      ],
      "execution_count": 4,
      "outputs": []
    },
    {
      "cell_type": "code",
      "metadata": {
        "colab": {
          "base_uri": "https://localhost:8080/"
        },
        "id": "AvqOF0dIWqrA",
        "outputId": "82746877-971e-438e-a801-1cc0bceb88b1"
      },
      "source": [
        "a = []\n",
        "b = []\n",
        "print(train.shape)\n",
        "for i in range(train.shape[0]):\n",
        "  try:\n",
        "    a.append(train.question1[i].split(\" \"))\n",
        "    b.append(train.question2[i].split(\" \"))\n",
        "  except:\n",
        "    pass\n",
        "\n",
        "bowTest = corpora.Dictionary(a + b)\n",
        "print(len(bowTest.token2id))\n"
      ],
      "execution_count": 32,
      "outputs": [
        {
          "output_type": "stream",
          "text": [
            "(404287, 6)\n",
            "232540\n"
          ],
          "name": "stdout"
        }
      ]
    },
    {
      "cell_type": "code",
      "metadata": {
        "colab": {
          "base_uri": "https://localhost:8080/",
          "height": 329
        },
        "id": "LwySkUCpxSjH",
        "outputId": "898987d6-d196-4c49-99f6-9d5bfc1f593d"
      },
      "source": [
        "qid = pd.Series(train.qid1.to_list() + train.qid2.to_list())\n",
        "qid_count = qid.value_counts()\n",
        "print(\"Number of unique questions: \", len(qid_count))\n",
        "plt.figure()\n",
        "plt.hist(qid_count)\n",
        "plt.yscale('log')\n",
        "plt.title('Question replication count')\n",
        "plt.xlabel('Number of appearances of question')\n",
        "plt.ylabel('Number of questions with y apperances')"
      ],
      "execution_count": 43,
      "outputs": [
        {
          "output_type": "stream",
          "text": [
            "Number of unique questions:  537929\n"
          ],
          "name": "stdout"
        },
        {
          "output_type": "execute_result",
          "data": {
            "text/plain": [
              "Text(0, 0.5, 'Number of questions with y apperances')"
            ]
          },
          "metadata": {
            "tags": []
          },
          "execution_count": 43
        },
        {
          "output_type": "display_data",
          "data": {
            "image/png": "[encoded data removed]",
            "text/plain": [
              "<Figure size 432x288 with 1 Axes>"
            ]
          },
          "metadata": {
            "tags": [],
            "needs_background": "light"
          }
        }
      ]
    },
    {
      "cell_type": "code",
      "metadata": {
        "id": "O8vr26JuxGo-"
      },
      "source": [
        "from sklearn.model_selection import train_test_split\n",
        "\n",
        "train_set, test_set  = train_test_split(train, test_size = 0.2)"
      ],
      "execution_count": 12,
      "outputs": []
    },
    {
      "cell_type": "code",
      "metadata": {
        "colab": {
          "base_uri": "https://localhost:8080/"
        },
        "id": "wcuN88Y-Cbtp",
        "outputId": "4c34eb2b-411e-4a23-81d8-dbeda125c3dc"
      },
      "source": [
        "import nltk\n",
        "nltk.download('stopwords')"
      ],
      "execution_count": 13,
      "outputs": [
        {
          "output_type": "stream",
          "text": [
            "[nltk_data] Downloading package stopwords to /root/nltk_data...\n",
            "[nltk_data]   Unzipping corpora/stopwords.zip.\n"
          ],
          "name": "stdout"
        },
        {
          "output_type": "execute_result",
          "data": {
            "text/plain": [
              "True"
            ]
          },
          "metadata": {
            "tags": []
          },
          "execution_count": 13
        }
      ]
    },
    {
      "cell_type": "code",
      "metadata": {
        "id": "zL4Yf2kyB33Q"
      },
      "source": [
        "stop_words = stopwords.words('english')"
      ],
      "execution_count": 14,
      "outputs": []
    },
    {
      "cell_type": "code",
      "metadata": {
        "id": "aGwWIBy7jRWU"
      },
      "source": [
        "# https://www.kaggle.com/currie32/the-importance-of-cleaning-text/notebook?select=train.csv.zip\n",
        "# I modified the function to fit our need\n",
        "def text_to_wordlist(text, remove_stop_words=True, stem_words=False):\n",
        "    text = re.sub(r\"[^A-Za-z0-9]\", \" \", text)\n",
        "    text = re.sub(r\"what's\", \"\", text)\n",
        "    text = re.sub(r\"What's\", \"\", text)\n",
        "    text = re.sub(r\"\\'s\", \" \", text)\n",
        "    text = re.sub(r\"\\'ve\", \" have \", text)\n",
        "    text = re.sub(r\"can't\", \"cannot \", text)\n",
        "    text = re.sub(r\"n't\", \" not \", text)\n",
        "    text = re.sub(r\"I'm\", \"I am\", text)\n",
        "    text = re.sub(r\" m \", \" am \", text)\n",
        "    text = re.sub(r\"\\'re\", \" are \", text)\n",
        "    text = re.sub(r\"\\'d\", \" would \", text)\n",
        "    text = re.sub(r\"\\'ll\", \" will \", text)\n",
        "    text = re.sub(r\"60k\", \" 60000 \", text)\n",
        "    text = re.sub(r\" e g \", \" eg \", text)\n",
        "    text = re.sub(r\" b g \", \" bg \", text)\n",
        "    text = re.sub(r\"\\0s\", \"0\", text)\n",
        "    text = re.sub(r\" 9 11 \", \"911\", text)\n",
        "    text = re.sub(r\"e-mail\", \"email\", text)\n",
        "    text = re.sub(r\"\\s{2,}\", \" \", text)\n",
        "    text = re.sub(r\"quikly\", \"quickly\", text)\n",
        "    text = re.sub(r\" usa \", \" America \", text)\n",
        "    text = re.sub(r\" USA \", \" America \", text)\n",
        "    text = re.sub(r\" u s \", \" America \", text)\n",
        "    text = re.sub(r\" uk \", \" England \", text)\n",
        "    text = re.sub(r\" UK \", \" England \", text)\n",
        "    text = re.sub(r\"india\", \"India\", text)\n",
        "    text = re.sub(r\"switzerland\", \"Switzerland\", text)\n",
        "    text = re.sub(r\"china\", \"China\", text)\n",
        "    text = re.sub(r\"chinese\", \"Chinese\", text) \n",
        "    text = re.sub(r\"imrovement\", \"improvement\", text)\n",
        "    text = re.sub(r\"intially\", \"initially\", text)\n",
        "    text = re.sub(r\"quora\", \"Quora\", text)\n",
        "    text = re.sub(r\" dms \", \"direct messages \", text)  \n",
        "    text = re.sub(r\"demonitization\", \"demonetization\", text) \n",
        "    text = re.sub(r\"actived\", \"active\", text)\n",
        "    text = re.sub(r\"kms\", \" kilometers \", text)\n",
        "    text = re.sub(r\"KMs\", \" kilometers \", text)\n",
        "    text = re.sub(r\" cs \", \" computer science \", text) \n",
        "    text = re.sub(r\" upvotes \", \" up votes \", text)\n",
        "    text = re.sub(r\" iPhone \", \" phone \", text)\n",
        "    text = re.sub(r\"\\0rs \", \" rs \", text) \n",
        "    text = re.sub(r\"calender\", \"calendar\", text)\n",
        "    text = re.sub(r\"ios\", \"operating system\", text)\n",
        "    text = re.sub(r\"gps\", \"GPS\", text)\n",
        "    text = re.sub(r\"gst\", \"GST\", text)\n",
        "    text = re.sub(r\"programing\", \"programming\", text)\n",
        "    text = re.sub(r\"bestfriend\", \"best friend\", text)\n",
        "    text = re.sub(r\"dna\", \"DNA\", text)\n",
        "    text = re.sub(r\"III\", \"3\", text) \n",
        "    text = re.sub(r\"the US\", \"America\", text)\n",
        "    text = re.sub(r\"Astrology\", \"astrology\", text)\n",
        "    text = re.sub(r\"Method\", \"method\", text)\n",
        "    text = re.sub(r\"Find\", \"find\", text) \n",
        "    text = re.sub(r\"banglore\", \"Banglore\", text)\n",
        "    text = re.sub(r\" J K \", \" JK \", text)\n",
        "    \n",
        "    # Remove punctuation from text\n",
        "    text = ''.join([c for c in text if c not in punctuation])\n",
        "    \n",
        "    # Optionally, remove stop words\n",
        "    if remove_stop_words:\n",
        "        text = text.split()\n",
        "        text = [w for w in text if not w in stop_words]\n",
        "        text = \" \".join(text)\n",
        "    \n",
        "    # Optionally, shorten words to their stems\n",
        "    if stem_words:\n",
        "        text = text.split()\n",
        "        stemmer = SnowballStemmer('english')\n",
        "        stemmed_words = [stemmer.stem(word) for word in text]\n",
        "        text = \" \".join(stemmed_words)\n",
        "    \n",
        "    # Return a list of words\n",
        "    return(text)"
      ],
      "execution_count": 15,
      "outputs": []
    },
    {
      "cell_type": "code",
      "metadata": {
        "id": "-OUTK0drqC74"
      },
      "source": [
        "def substitute_thousands(text):\n",
        "    matches = re.finditer(r'[0-9]+(?P<thousands>\\s{0,2}k\\b)', text, flags=re.I)\n",
        "    result = ''\n",
        "    len_offset = 0\n",
        "    for match in matches:\n",
        "        result += '{}000'.format(text[len(result)-len_offset:match.start('thousands')])\n",
        "        len_offset += 3 - (match.end('thousands') - match.start('thousands'))\n",
        "    result += text[len(result)-len_offset:]\n",
        "    return result"
      ],
      "execution_count": 16,
      "outputs": []
    },
    {
      "cell_type": "code",
      "metadata": {
        "id": "nDjMrLPHuKam"
      },
      "source": [
        "def process_questions(question_list, questions):\n",
        "    '''transform questions and display progress'''\n",
        "    for question in questions:\n",
        "      try:\n",
        "        question_list.append(list(substitute_thousands(text_to_wordlist(question)).split(\" \")))\n",
        "      except:\n",
        "        print(question)"
      ],
      "execution_count": 17,
      "outputs": []
    },
    {
      "cell_type": "code",
      "metadata": {
        "colab": {
          "base_uri": "https://localhost:8080/"
        },
        "id": "6ayvqj4IGB1l",
        "outputId": "10c3c7b9-943c-4aa3-9593-96a7ee272faa"
      },
      "source": [
        "print(train_set[:10])"
      ],
      "execution_count": 18,
      "outputs": [
        {
          "output_type": "stream",
          "text": [
            "            id  ...  is_duplicate\n",
            "346941  346941  ...             1\n",
            "386962  386962  ...             1\n",
            "314139  314139  ...             1\n",
            "59845    59845  ...             1\n",
            "390553  390553  ...             1\n",
            "53346    53346  ...             1\n",
            "207081  207081  ...             1\n",
            "367435  367435  ...             1\n",
            "77412    77412  ...             0\n",
            "303183  303183  ...             0\n",
            "\n",
            "[10 rows x 6 columns]\n"
          ],
          "name": "stdout"
        }
      ]
    },
    {
      "cell_type": "code",
      "metadata": {
        "colab": {
          "base_uri": "https://localhost:8080/"
        },
        "id": "3Hn8UpU1YbCN",
        "outputId": "070828f6-b3fc-4a6f-d043-2553938fc165"
      },
      "source": [
        "anomaly = []\n",
        "for i in range(len(train.question1)):\n",
        "  if len(train.question1[i]) > 50 or len(train.question2[i]) > 50:\n",
        "    continue\n",
        "  for c in train.question1[i]:\n",
        "    if ord(c) >= 128:\n",
        "      print(train.question1[i])\n",
        "      print(train.question2[i])\n",
        "      print()\n",
        "      anomaly.append((train.question1[i], train.question2[i]))\n",
        "      break\n",
        "  if len(anomaly) > 4:\n",
        "    break \n",
        "# preprocess results for anomaly\n",
        "for i in anomaly:\n",
        "  print(substitute_thousands(text_to_wordlist(i[0])))\n",
        "  print(substitute_thousands(text_to_wordlist(i[1])))\n",
        "  print()"
      ],
      "execution_count": 26,
      "outputs": [
        {
          "output_type": "stream",
          "text": [
            "When do you use シ instead of し?\n",
            "When do you use \"&\" instead of \"and\"?\n",
            "\n",
            "What’s the best time to have sex?\n",
            "When will the best time for having sex?\n",
            "\n",
            "What is the best quote you’ve heard?\n",
            "What is a good quote you have heard today?\n",
            "\n",
            "How difficult is it to hack Pokémon GO?\n",
            "What is the best Pokemon GO hack?\n",
            "\n",
            "What is your New Year’s Resolution(s) for 2017?\n",
            "What can be my new year resolution for 2017?\n",
            "\n",
            "When use instead\n",
            "When use instead\n",
            "\n",
            "What best time sex\n",
            "When best time sex\n",
            "\n",
            "What best quote heard\n",
            "What good quote heard today\n",
            "\n",
            "How difficult hack Pok mon GO\n",
            "What best Pokemon GO hack\n",
            "\n",
            "What New Year Resolution 2017\n",
            "What new year resolution 2017\n",
            "\n"
          ],
          "name": "stdout"
        }
      ]
    },
    {
      "cell_type": "code",
      "metadata": {
        "colab": {
          "base_uri": "https://localhost:8080/"
        },
        "id": "x8S-9lKQNdbD",
        "outputId": "4d79feb9-0126-4bfa-b488-f6e6fb122ca9"
      },
      "source": [
        "train_q1 = []\n",
        "train_q2 = []\n",
        "process_questions(train_q1, train_set.question1)\n",
        "process_questions(train_q2, train_set.question2)\n",
        "print(train_q1[:10])\n",
        "print(train_q2[:10])"
      ],
      "execution_count": null,
      "outputs": [
        {
          "output_type": "stream",
          "text": [
            "[['For', 'almost', 'year', 'I', 'practicing', 'Competitive', 'Programming', 'I', 'love', 'This', 'time', 'I', 'would', 'like', 'something', 'real', 'How', 'I', 'get', 'started', 'sophisticated', 'programming', 'build', 'projects'], ['What', 'frequently', 'asked', 'basic', 'complex', 'queries', 'SQL', 'tech', 'interview'], ['What', 'best', 'economic', 'perfume', 'men', 'India'], ['Is', 'yeshyip', 'com', 'legit'], ['What', 'Hilary', 'Clinton', 'aim', 'achieve', 'first', '100', 'days', 'POTUS'], ['Scooby', 'Doo', 'What', 'reasons', 'Shaggy', 'pothead', 'theory', 'popular', 'online'], ['What', 'relationship', 'differences', 'Keepass', 'KeepassX'], ['Is', 'Hawaii', 'state', 'country'], ['Why', 'RBI', 'issue', 'new', '2000', 'rupees', 'note'], ['What', 'review', '2013', 'Summer', 'Internships']]\n",
            "[['I', 'studying', 'java', 'year', '3', 'hrs', 'day', 'programming', 'start', 'click', 'point', 'I', 'build', 'something', 'interesting'], ['Which', 'frequently', 'asked', 'interview', 'questions', 'SQL'], ['How', 'I', 'apply', 'perfume', 'men'], ['Is', 'Buildmylikes', 'com', 'legit'], ['What', 'Hillary', 'prioritize', 'first', 'hundred', 'days', 'office'], ['Why', 'villains', 'Scooby', 'Doo', 'get', 'arrested'], ['My', 'husband', 'knows', 'email', 'bank', 'account', 'passwords', 'But', 'want', 'share', 'passwords', 'Is', 'hiding', 'something'], ['How', 'Hawaii', 'become', 'part', 'United', 'States', 'How', 'Hawaii', 'affected', 'U', 'S', 'economy'], ['Why', 'RBI', 'issuing', '2000', 'rupee', 'notes'], ['What', 'review', 'Summer', 'Internships']]\n"
          ],
          "name": "stdout"
        }
      ]
    },
    {
      "cell_type": "code",
      "metadata": {
        "colab": {
          "base_uri": "https://localhost:8080/"
        },
        "id": "C1wTZTeQLaA8",
        "outputId": "bb1bc071-ff6c-46a3-fe6e-142d256d2e7b"
      },
      "source": [
        "test_q1 = []\n",
        "test_q2 = []\n",
        "process_questions(test_q1, test_set.question1)\n",
        "process_questions(test_q2, test_set.question2)\n",
        "print(test_q1[:10])\n",
        "print(test_q2[:10])"
      ],
      "execution_count": null,
      "outputs": [
        {
          "output_type": "stream",
          "text": [
            "[['What', 'five', 'ways', 'improve', 'self', 'discipline'], ['Why', 'many', 'Indians', 'Quora', 'annoying'], ['If', 'completely', 'cover', 'aluminum', 'foil', 'still', 'get', 'sunburned'], ['Can', 'radio', 'telescope', 'intercept', 'satellite', 'communication'], ['What', 'color', 'options', 'Maruti', 'Vitara', 'Brezza'], ['Can', 'wear', 'butt', 'plug', 'day'], ['How', 'accurate', 'pregnancy', 'tests', 'Dollar', 'Tree'], ['What', 'dirtiest', 'place', 'ever'], ['Should', 'I', 'stay', 'friends', 'ex', 'even', 'though', 'I', 'hurt', 'repeatedly'], ['What', 'best', 'site', 'Internet']]\n",
            "[['What', 'effective', 'ways', 'improve', 'self', 'discipline'], ['Why', 'Quora', 'popular', 'India'], ['I', 'made', 'new', 'theory', 'General', 'Relativity', 'SR', 'covering', 'flaws', 'I', 'still', '13', 'given', 'proofs', 'mathematical', 'way', 'What', 'I'], ['Can', 'NASA', 'laser', 'communication', 'satellite', 'intercepted', 'tapped'], ['Which', 'car', 'better', 'Brezza', 'KUV', '100'], ['How', 'I', 'get', 'butt', 'plug', 'without', 'parents', 'knowing'], ['Are', 'dollar', 'store', 'pregnancy', 'tests', 'less', 'accurate', 'pregnancy', 'tests'], ['What', 'emptiest', 'flight', 'ever'], ['Should', 'I', 'friends', 'ex', 'wife'], ['Which', 'best', 'sites', 'Internet']]\n"
          ],
          "name": "stdout"
        }
      ]
    },
    {
      "cell_type": "code",
      "metadata": {
        "colab": {
          "base_uri": "https://localhost:8080/"
        },
        "id": "9pjPTLnpXmOj",
        "outputId": "19da3de3-ebdf-4f4c-b7eb-ddfde5df18b5"
      },
      "source": [
        "# convert to bagofwords representation\n",
        "bow = corpora.Dictionary(train_q1 + train_q2)\n",
        "bow.filter_extremes()\n",
        "bow.compactify()\n",
        "print(len(bow.token2id))"
      ],
      "execution_count": null,
      "outputs": [
        {
          "output_type": "stream",
          "text": [
            "31313\n"
          ],
          "name": "stdout"
        }
      ]
    },
    {
      "cell_type": "code",
      "metadata": {
        "colab": {
          "base_uri": "https://localhost:8080/"
        },
        "id": "g-w52czQzWHu",
        "outputId": "16a014a5-5f6b-4616-ddad-e9f836030675"
      },
      "source": [
        "from gensim.matutils import corpus2csc\n",
        "num_terms = len(bow.token2id)\n",
        "train_q1_sparse = corpus2csc([bow.doc2bow(q) for q in train_q1], num_terms=num_terms).transpose() # corpus2csc has documents as columns\n",
        "train_q2_sparse = corpus2csc([bow.doc2bow(q) for q in train_q2], num_terms=num_terms).transpose()\n",
        "print(train_q1_sparse.shape)\n",
        "print(train_q2_sparse.shape)"
      ],
      "execution_count": null,
      "outputs": [
        {
          "output_type": "stream",
          "text": [
            "(323429, 31313)\n",
            "(323429, 31313)\n"
          ],
          "name": "stdout"
        }
      ]
    },
    {
      "cell_type": "code",
      "metadata": {
        "colab": {
          "base_uri": "https://localhost:8080/"
        },
        "id": "xz0HWQDC3Fqr",
        "outputId": "6e656a44-d4a3-4bdf-b736-dd48852ec3d5"
      },
      "source": [
        "test_q1_sparse = corpus2csc([bow.doc2bow(q) for q in test_q1], num_terms=num_terms).transpose()\n",
        "test_q2_sparse = corpus2csc([bow.doc2bow(q) for q in test_q2], num_terms=num_terms).transpose()\n",
        "print(test_q1_sparse.shape)\n",
        "print(test_q2_sparse.shape)"
      ],
      "execution_count": null,
      "outputs": [
        {
          "output_type": "stream",
          "text": [
            "(80858, 31313)\n",
            "(80858, 31313)\n"
          ],
          "name": "stdout"
        }
      ]
    },
    {
      "cell_type": "code",
      "metadata": {
        "id": "aP7ZZgCA9MkC"
      },
      "source": [
        "def get_distances(q1_sparse, q2_sparse):\n",
        "  cos = []\n",
        "  manhattan = []\n",
        "  euclidean = []\n",
        "  for i in range(q1_sparse.shape[0]):\n",
        "    if i % 10000 == 0:\n",
        "      print(i)\n",
        "    cos.append(cosine_similarity(q1_sparse[i], q2_sparse[i])[0][0])\n",
        "    manhattan.append(manhattan_distances(q1_sparse[i], q2_sparse[i])[0][0])\n",
        "    euclidean.append(euclidean_distances(q1_sparse[i], q2_sparse[i])[0][0])\n",
        "  return {\"cos\" : cos, \"man\" : manhattan, \"eu\" : euclidean}\n"
      ],
      "execution_count": null,
      "outputs": []
    },
    {
      "cell_type": "code",
      "metadata": {
        "colab": {
          "base_uri": "https://localhost:8080/"
        },
        "id": "SIWZGN8zDYGJ",
        "outputId": "56e60c70-a13e-457f-c687-a62520910f57"
      },
      "source": [
        "X_train = pd.DataFrame(get_distances(train_q1_sparse, train_q2_sparse));\n",
        "y_train = train_set.is_duplicate;"
      ],
      "execution_count": null,
      "outputs": [
        {
          "output_type": "stream",
          "text": [
            "0\n",
            "10000\n",
            "20000\n",
            "30000\n",
            "40000\n",
            "50000\n",
            "60000\n",
            "70000\n",
            "80000\n",
            "90000\n",
            "100000\n",
            "110000\n",
            "120000\n",
            "130000\n",
            "140000\n",
            "150000\n",
            "160000\n",
            "170000\n",
            "180000\n",
            "190000\n",
            "200000\n",
            "210000\n",
            "220000\n",
            "230000\n",
            "240000\n",
            "250000\n",
            "260000\n",
            "270000\n",
            "280000\n",
            "290000\n",
            "300000\n",
            "310000\n",
            "320000\n"
          ],
          "name": "stdout"
        }
      ]
    },
    {
      "cell_type": "code",
      "metadata": {
        "colab": {
          "base_uri": "https://localhost:8080/"
        },
        "id": "P2y3xUU7IT9q",
        "outputId": "26b5d4e2-e4ca-4bea-859a-8a25a61e79a0"
      },
      "source": [
        "X_test = pd.DataFrame(get_distances(test_q1_sparse, test_q2_sparse));\n",
        "y_test = test_set.is_duplicate;"
      ],
      "execution_count": null,
      "outputs": [
        {
          "output_type": "stream",
          "text": [
            "0\n",
            "10000\n",
            "20000\n",
            "30000\n",
            "40000\n",
            "50000\n",
            "60000\n",
            "70000\n",
            "80000\n"
          ],
          "name": "stdout"
        }
      ]
    },
    {
      "cell_type": "code",
      "metadata": {
        "colab": {
          "base_uri": "https://localhost:8080/"
        },
        "id": "QVeBOM82Jla7",
        "outputId": "4c0cc1c5-9a9e-43fe-cbb7-942896f66eea"
      },
      "source": [
        "model = RandomForestClassifier()\n",
        "model.fit(X_train, y_train)\n",
        "pred = model.predict(X_test)\n",
        "print(\"The log loss of our random forest model is: \", log_loss(y_test, pred))"
      ],
      "execution_count": null,
      "outputs": [
        {
          "output_type": "stream",
          "text": [
            "The log loss of our random forest model is:  10.780626598305174\n"
          ],
          "name": "stdout"
        }
      ]
    },
    {
      "cell_type": "code",
      "metadata": {
        "colab": {
          "base_uri": "https://localhost:8080/"
        },
        "id": "rxEPxdx3N-87",
        "outputId": "539acaf5-5aa2-4165-c870-4d88719849cf"
      },
      "source": [
        "from sklearn.metrics import accuracy_score\n",
        "print(\"Accuracy is \", accuracy_score(y_test, pred) * 100)"
      ],
      "execution_count": null,
      "outputs": [
        {
          "output_type": "stream",
          "text": [
            "Accuracy is  68.78725667219075\n"
          ],
          "name": "stdout"
        }
      ]
    }
  ]
}
